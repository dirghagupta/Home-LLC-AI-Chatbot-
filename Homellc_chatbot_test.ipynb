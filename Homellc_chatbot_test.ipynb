{
  "nbformat": 4,
  "nbformat_minor": 0,
  "metadata": {
    "colab": {
      "provenance": [],
      "authorship_tag": "ABX9TyM/jybGhhQLVNkfmOztOvFY",
      "include_colab_link": true
    },
    "kernelspec": {
      "name": "python3",
      "display_name": "Python 3"
    },
    "language_info": {
      "name": "python"
    }
  },
  "cells": [
    {
      "cell_type": "markdown",
      "metadata": {
        "id": "view-in-github",
        "colab_type": "text"
      },
      "source": [
        "<a href=\"https://colab.research.google.com/github/dirghagupta/Home-LLC-AI-Chatbot-/blob/main/Homellc_chatbot_test.ipynb\" target=\"_parent\"><img src=\"https://colab.research.google.com/assets/colab-badge.svg\" alt=\"Open In Colab\"/></a>"
      ]
    },
    {
      "cell_type": "code",
      "execution_count": 5,
      "metadata": {
        "colab": {
          "base_uri": "https://localhost:8080/"
        },
        "id": "T9ZW3gpm4G-1",
        "outputId": "3c8268c0-3231-4ee5-8503-a6f2575df0e1"
      },
      "outputs": [
        {
          "output_type": "stream",
          "name": "stdout",
          "text": [
            "Hi! Welcome! Before we start, can you please tell me your first name? \n",
            "Great, ! Now, could you share your email with me? \n",
            "Thank you! Let's get started!\n",
            "What should we know about your life story in a few sentences?\n",
            "That's insightful! Thanks for sharing.\n",
            "What’s your #1 superpower?\n",
            "That's insightful! Thanks for sharing.\n",
            "What are the top 3 areas you’d like to grow in?\n",
            "That's insightful! Thanks for sharing.\n",
            "What misconception do your coworkers have about you?\n",
            "That's insightful! Thanks for sharing.\n",
            "How do you push your boundaries and limits?\n",
            "That's insightful! Thanks for sharing.\n",
            "Would you like to know more about Home LLC? (yes/no) YES\n",
            "\n",
            "Who are we?\n",
            "Established in 2019, Home LLC is dedicated to addressing challenges in the housing market. Our mission is to alleviate the home ownership crisis in America by streamlining the process of buying, owning, and selling homes for greater efficiency and effectiveness.\n",
            "\n",
            "What services does Home LLC provide?\n",
            "We specialize in providing analytical data for clients in the US mortgage market, helping home buyers make informed decisions.\n",
            "\n",
            "What does Home LLC do?\n",
            "Home LLC is a fintech company focused on improving homeownership accessibility through its three main products: HOME Equity Investment, HOME Agent, and HOME Analytics. Our HOME Equity Investment lets homeowners access equity without taking on debt or selling their homes.\n",
            "\n",
            "Want to explore more?\n",
            "You can visit Home LLC FAQ for further details!\n",
            "\n",
            "Thanks for your time, ! It was great chatting with you. Have a wonderful day!\n"
          ]
        }
      ],
      "source": [
        "\n",
        "# prompt: User Prompt:\n",
        "# 🔹 Step 1: Greet & Collect User Details\n",
        "# \"Hi! Welcome! Before we start, can you please tell me your first name?\"\n",
        "# \"Great, [User’s Name]! Now, could you share your email with me?\"\n",
        "# Accepts any email format and proceeds.\n",
        "# \"Thank you! Let's get started!\"\n",
        "# 🔹 Step 2: Ask Behavioral Questions\n",
        "# The user can ask or the bot can prompt with:\n",
        "# \"What should we know about your life story in a few sentences?\"\n",
        "# \"What’s your #1 superpower?\"\n",
        "# \"What are the top 3 areas you’d like to grow in?\"\n",
        "# \"What misconception do your coworkers have about you?\"\n",
        "# \"How do you push your boundaries and limits?\"\n",
        "# The bot provides structured, professional, and human-like responses.\n",
        "# 🔹 Step 3: Introduce Home LLC (Optional, Mid-Convo or After Behavioral Questions)\n",
        "# \"Would you like to know more about Home LLC?\"\n",
        "# If Yes, share the following:\n",
        "# Who are we?\n",
        "# \"Established in 2019, Home LLC is dedicated to addressing challenges in the housing market. Our mission is to alleviate the home ownership crisis in America by streamlining the process of buying, owning, and selling homes for greater efficiency and effectiveness.\"\n",
        "# What services does Home LLC provide?\n",
        "# \"We specialize in providing analytical data for clients in the US mortgage market, helping home buyers make informed decisions.\"\n",
        "# What does Home LLC do?\n",
        "# \"Home LLC is a fintech company focused on improving homeownership accessibility through its three main products: HOME Equity Investment, HOME Agent, and HOME Analytics. Our HOME Equity Investment lets homeowners access equity without taking on debt or selling their homes.\"\n",
        "# Want to explore more?\n",
        "# \"You can visit Home LLC FAQ for further details!\"\n",
        "# 🔹 Step 4: Closing Message\n",
        "# \"Thanks for your time, [User’s Name]! It was great chatting with you. Have a wonderful day!\"\n",
        "\n",
        "def chatbot_interaction():\n",
        "  \"\"\"\n",
        "  Simulates a chatbot interaction with a user, guiding them through a series of questions\n",
        "  and optionally introducing Home LLC.\n",
        "  \"\"\"\n",
        "\n",
        "  # Step 1: Greet & Collect User Details\n",
        "  first_name = input(\"Hi! Welcome! Before we start, can you please tell me your first name? \")\n",
        "  email = input(f\"Great, {first_name}! Now, could you share your email with me? \")\n",
        "  print(\"Thank you! Let's get started!\")\n",
        "\n",
        "  # Step 2: Ask Behavioral Questions\n",
        "  questions = [\n",
        "      \"What should we know about your life story in a few sentences?\",\n",
        "      \"What’s your #1 superpower?\",\n",
        "      \"What are the top 3 areas you’d like to grow in?\",\n",
        "      \"What misconception do your coworkers have about you?\",\n",
        "      \"How do you push your boundaries and limits?\"\n",
        "  ]\n",
        "\n",
        "  for question in questions:\n",
        "    user_response = input(question)\n",
        "    # You can add logic here to process the user's response,\n",
        "    # such as storing it, analyzing it, etc.\n",
        "    print(\"That's insightful! Thanks for sharing.\")\n",
        "\n",
        "  # Step 3: Introduce Home LLC (Optional)\n",
        "  home_llc_intro = input(\"Would you like to know more about Home LLC? (yes/no) \")\n",
        "  if home_llc_intro.lower() == \"yes\":\n",
        "    print(\"\\nWho are we?\")\n",
        "    print(\"Established in 2019, Home LLC is dedicated to addressing challenges in the housing market. Our mission is to alleviate the home ownership crisis in America by streamlining the process of buying, owning, and selling homes for greater efficiency and effectiveness.\")\n",
        "    print(\"\\nWhat services does Home LLC provide?\")\n",
        "    print(\"We specialize in providing analytical data for clients in the US mortgage market, helping home buyers make informed decisions.\")\n",
        "    print(\"\\nWhat does Home LLC do?\")\n",
        "    print(\"Home LLC is a fintech company focused on improving homeownership accessibility through its three main products: HOME Equity Investment, HOME Agent, and HOME Analytics. Our HOME Equity Investment lets homeowners access equity without taking on debt or selling their homes.\")\n",
        "    print(\"\\nWant to explore more?\")\n",
        "    print(\"You can visit Home LLC FAQ for further details!\")\n",
        "\n",
        "  # Step 4: Closing Message\n",
        "  print(f\"\\nThanks for your time, {first_name}! It was great chatting with you. Have a wonderful day!\")\n",
        "\n",
        "if __name__ == \"__main__\":\n",
        "  chatbot_interaction()\n"
      ]
    }
  ]
}